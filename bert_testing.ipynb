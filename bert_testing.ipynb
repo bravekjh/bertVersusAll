{
 "cells": [
  {
   "cell_type": "code",
   "execution_count": 4,
   "metadata": {},
   "outputs": [],
   "source": [
    "# Setup Logging\n",
    "import logging\n",
    "logging_format = '%(asctime)s - %(levelname)s - %(message)s'\n",
    "logging.basicConfig(level=logging.INFO,filename=None, format=logging_format)\n",
    "log = logging.getLogger(__name__)\n",
    "\n",
    "from minimal_bert import preproc as pp\n",
    "from minimal_bert import modelling as mod\n",
    "from minimal_bert.utils import prepare_and_save_bert_encoded_df as prep_bert\n",
    "from minimal_bert.utils import load_bert_and_prep_for_training as load_bert"
   ]
  },
  {
   "cell_type": "code",
   "execution_count": null,
   "metadata": {},
   "outputs": [
    {
     "name": "stderr",
     "output_type": "stream",
     "text": [
      "2019-06-10 09:28:58,587 - INFO - Raw data loaded and prepared for processing\n",
      "2019-06-10 09:28:58,724 - INFO - Encoding sentences using BERT, this will take several minutes\n"
     ]
    }
   ],
   "source": [
    "prep_bert(maxlen=300)"
   ]
  },
  {
   "cell_type": "code",
   "execution_count": null,
   "metadata": {},
   "outputs": [],
   "source": [
    "# Create Parameter Grid\n",
    "n_sample_li = [100, 500, 1000, 5000, 10000, None]\n",
    "n_hidden = [16, 32, 48, 64, 128, 256]\n",
    "param_grid = {'n_hidden': n_hidden, 'number_of_texts': n_sample_li}\n",
    "param_grid = list(ParameterGrid(param_grid))\n",
    "\n",
    "for grid in param_grid:\n",
    "    # Get Data \n",
    "    X_train, X_test, y_train, y_test = load_bert(param_grid['number_of_texts'])\n",
    "    # Train Model\n",
    "    model, history = mod.train_and_return_model(\n",
    "        X_train, \n",
    "        X_test, \n",
    "        y_train, \n",
    "        y_test, \n",
    "        param_grid['n_hidden'])\n",
    "    # Extract Results\n",
    "    break"
   ]
  },
  {
   "cell_type": "code",
   "execution_count": null,
   "metadata": {},
   "outputs": [],
   "source": []
  },
  {
   "cell_type": "code",
   "execution_count": null,
   "metadata": {},
   "outputs": [],
   "source": []
  },
  {
   "cell_type": "code",
   "execution_count": null,
   "metadata": {},
   "outputs": [],
   "source": []
  },
  {
   "cell_type": "code",
   "execution_count": null,
   "metadata": {},
   "outputs": [],
   "source": []
  },
  {
   "cell_type": "code",
   "execution_count": null,
   "metadata": {},
   "outputs": [],
   "source": []
  }
 ],
 "metadata": {
  "kernelspec": {
   "display_name": "Python 3",
   "language": "python",
   "name": "python3"
  },
  "language_info": {
   "codemirror_mode": {
    "name": "ipython",
    "version": 3
   },
   "file_extension": ".py",
   "mimetype": "text/x-python",
   "name": "python",
   "nbconvert_exporter": "python",
   "pygments_lexer": "ipython3",
   "version": "3.6.6"
  }
 },
 "nbformat": 4,
 "nbformat_minor": 2
}
