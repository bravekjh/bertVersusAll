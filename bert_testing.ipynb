{
 "cells": [
  {
   "cell_type": "code",
   "execution_count": 1,
   "metadata": {},
   "outputs": [],
   "source": [
    "%load_ext autoreload\n",
    "%autoreload 2"
   ]
  },
  {
   "cell_type": "code",
   "execution_count": 2,
   "metadata": {},
   "outputs": [
    {
     "name": "stderr",
     "output_type": "stream",
     "text": [
      "Using TensorFlow backend.\n"
     ]
    }
   ],
   "source": [
    "# Setup Logging\n",
    "import logging\n",
    "logging_format = '%(asctime)s - %(levelname)s - %(message)s'\n",
    "logging.basicConfig(level=logging.INFO,filename=None, format=logging_format)\n",
    "log = logging.getLogger(__name__)\n",
    "    \n",
    "from minimal_bert import preproc as pp\n",
    "from minimal_bert import modelling as mod\n",
    "from minimal_bert import utils\n",
    "from minimal_bert.utils import prepare_and_save_bert_encoded_df as prep_bert\n",
    "from minimal_bert.utils import load_bert_and_prep_for_training as load_bert\n",
    "\n",
    "# Sklearny\n",
    "from sklearn.model_selection import ParameterGrid\n",
    "from sklearn.model_selection import train_test_split"
   ]
  },
  {
   "cell_type": "code",
   "execution_count": 3,
   "metadata": {},
   "outputs": [
    {
     "name": "stderr",
     "output_type": "stream",
     "text": [
      "2019-06-10 13:48:53,252 - INFO - Testing Shape = (31397, 24)\n"
     ]
    }
   ],
   "source": [
    "# Bulk Process All Articles\n",
    "# prep_bert(maxlen=300)\n",
    "\n",
    "# Split Test Set From All Articles\n",
    "X_train, X_test, y_train, y_test = load_bert(None,0.1)\n",
    "log.info(f\"Testing Shape = {y_train.shape}\")"
   ]
  },
  {
   "cell_type": "code",
   "execution_count": null,
   "metadata": {},
   "outputs": [
    {
     "name": "stderr",
     "output_type": "stream",
     "text": [
      "2019-06-10 13:49:17,862 - INFO - Model 0 - Prec 0.8126036483796238 - Rec 0.8641975308133922\n",
      "2019-06-10 13:49:17,862 - INFO - Settings - n_samples = 1000, n_hidden = 32\n"
     ]
    },
    {
     "name": "stdout",
     "output_type": "stream",
     "text": [
      "Epoch 00156: early stopping\n"
     ]
    },
    {
     "name": "stderr",
     "output_type": "stream",
     "text": [
      "2019-06-10 13:49:22,563 - INFO - Model 1 - Prec 0.8456790122982223 - Rec 0.885949441452913\n",
      "2019-06-10 13:49:22,563 - INFO - Settings - n_samples = 5000, n_hidden = 32\n"
     ]
    },
    {
     "name": "stdout",
     "output_type": "stream",
     "text": [
      "Epoch 00084: early stopping\n"
     ]
    },
    {
     "name": "stderr",
     "output_type": "stream",
     "text": [
      "2019-06-10 13:49:29,260 - INFO - Model 2 - Prec 0.8227582590024772 - Rec 0.9223985890110289\n",
      "2019-06-10 13:49:29,260 - INFO - Settings - n_samples = 10000, n_hidden = 32\n"
     ]
    },
    {
     "name": "stdout",
     "output_type": "stream",
     "text": [
      "Epoch 00063: early stopping\n"
     ]
    },
    {
     "name": "stderr",
     "output_type": "stream",
     "text": [
      "2019-06-10 13:49:41,012 - INFO - Model 3 - Prec 0.8375470682712454 - Rec 0.9153439152901032\n",
      "2019-06-10 13:49:41,013 - INFO - Settings - n_samples = 20000, n_hidden = 32\n"
     ]
    },
    {
     "name": "stdout",
     "output_type": "stream",
     "text": [
      "Epoch 00061: early stopping\n"
     ]
    },
    {
     "name": "stderr",
     "output_type": "stream",
     "text": [
      "2019-06-10 13:49:58,821 - INFO - Model 4 - Prec 0.8482339955381769 - Rec 0.9035861257552271\n",
      "2019-06-10 13:49:58,821 - INFO - Settings - n_samples = 30000, n_hidden = 32\n"
     ]
    },
    {
     "name": "stdout",
     "output_type": "stream",
     "text": [
      "Epoch 00057: early stopping\n"
     ]
    },
    {
     "name": "stderr",
     "output_type": "stream",
     "text": [
      "2019-06-10 13:50:15,029 - INFO - Model 5 - Prec 0.8558352402256387 - Rec 0.8794826572087311\n",
      "2019-06-10 13:50:15,030 - INFO - Settings - n_samples = None, n_hidden = 32\n"
     ]
    },
    {
     "name": "stdout",
     "output_type": "stream",
     "text": [
      "Epoch 00051: early stopping\n"
     ]
    },
    {
     "name": "stderr",
     "output_type": "stream",
     "text": [
      "2019-06-10 13:50:17,677 - INFO - Model 6 - Prec 0.8120260021228588 - Rec 0.8812463256389625\n",
      "2019-06-10 13:50:17,677 - INFO - Settings - n_samples = 1000, n_hidden = 64\n"
     ]
    },
    {
     "name": "stdout",
     "output_type": "stream",
     "text": [
      "Epoch 00126: early stopping\n"
     ]
    },
    {
     "name": "stderr",
     "output_type": "stream",
     "text": [
      "2019-06-10 13:50:22,637 - INFO - Model 7 - Prec 0.8298097251147035 - Rec 0.9229864784877726\n",
      "2019-06-10 13:50:22,637 - INFO - Settings - n_samples = 5000, n_hidden = 64\n"
     ]
    },
    {
     "name": "stdout",
     "output_type": "stream",
     "text": [
      "Epoch 00071: early stopping\n"
     ]
    },
    {
     "name": "stderr",
     "output_type": "stream",
     "text": [
      "2019-06-10 13:50:28,411 - INFO - Model 8 - Prec 0.8250652741083516 - Rec 0.9288653732552107\n",
      "2019-06-10 13:50:28,411 - INFO - Settings - n_samples = 10000, n_hidden = 64\n"
     ]
    },
    {
     "name": "stdout",
     "output_type": "stream",
     "text": [
      "Epoch 00047: early stopping\n"
     ]
    },
    {
     "name": "stderr",
     "output_type": "stream",
     "text": [
      "2019-06-10 13:50:37,870 - INFO - Model 9 - Prec 0.8382193267731693 - Rec 0.9077013520924337\n",
      "2019-06-10 13:50:37,871 - INFO - Settings - n_samples = 20000, n_hidden = 64\n"
     ]
    },
    {
     "name": "stdout",
     "output_type": "stream",
     "text": [
      "Epoch 00043: early stopping\n"
     ]
    },
    {
     "name": "stderr",
     "output_type": "stream",
     "text": [
      "2019-06-10 13:50:53,154 - INFO - Model 10 - Prec 0.841738197379735 - Rec 0.9223985890110289\n",
      "2019-06-10 13:50:53,155 - INFO - Settings - n_samples = 30000, n_hidden = 64\n"
     ]
    },
    {
     "name": "stdout",
     "output_type": "stream",
     "text": [
      "Epoch 00047: early stopping\n"
     ]
    }
   ],
   "source": [
    "# Create Parameter Grid\n",
    "n_sample_li = [1000, 5000, 10000, 20000, 30000, None]\n",
    "n_hidden = [32, 64, 128, 256]\n",
    "param_grid = {'n_hidden': n_hidden, 'number_of_texts': n_sample_li}\n",
    "param_grid = list(ParameterGrid(param_grid))\n",
    "\n",
    "n_samples_li = []\n",
    "n_hidden_li = []\n",
    "val_loss_li = []\n",
    "val_acc_li = []\n",
    "val_prec_li = []\n",
    "val_rec_li = []\n",
    "test_loss_li = []\n",
    "test_acc_li = []\n",
    "test_prec_li = []\n",
    "test_rec_li = []\n",
    "for ix, grid in enumerate(param_grid):\n",
    "    \n",
    "    # Get Data for sample size\n",
    "    X = X_train[0:grid['number_of_texts']].copy()\n",
    "    Y = y_train[0:grid['number_of_texts']].copy()\n",
    "    Xtr, Xval, ytr, yval = train_test_split(\n",
    "        X, Y, test_size=0.25, shuffle=True, random_state=42)\n",
    "    \n",
    "    # Train Model\n",
    "    model, history = mod.train_and_return_model(\n",
    "        Xtr, Xval, ytr, yval, grid['n_hidden'])\n",
    "    \n",
    "    # Extract Results\n",
    "    val_loss, val_acc, val_prec, val_rec = utils.extract_validation_results(history)\n",
    "    test_loss, test_acc, test_prec, test_rec = model.evaluate(X_test, y_test, batch_size=1024, verbose=0)\n",
    "    \n",
    "    # Save To Lists\n",
    "    n_samples_li.append(grid['number_of_texts'])\n",
    "    n_hidden_li.append(grid['n_hidden'])\n",
    "    val_loss_li.append(val_loss)\n",
    "    val_acc_li.append(val_acc)\n",
    "    val_prec_li.append(val_prec)\n",
    "    val_rec_li.append(val_rec)\n",
    "    test_loss_li.append(test_loss)\n",
    "    test_acc_li.append(test_acc)\n",
    "    test_prec_li.append(test_prec)\n",
    "    test_rec_li.append(test_rec)\n",
    "    \n",
    "    # Log Results\n",
    "    log.info(f\"Model {ix} - Prec {test_prec} - Rec {test_rec}\")\n",
    "    log.info(f\"Settings - n_samples = {grid['number_of_texts']}, n_hidden = {grid['n_hidden']}\")"
   ]
  },
  {
   "cell_type": "code",
   "execution_count": null,
   "metadata": {},
   "outputs": [],
   "source": [
    "import pandas as pd\n",
    "results_df = pd.DataFrame({\n",
    "    'n_samples':n_samples_li,\n",
    "    'n_hidden':n_hidden_li,\n",
    "    'loss':loss_li,\n",
    "    'accuracy':acc_li,\n",
    "    'precision':prec_li,\n",
    "    'recall':rec_li\n",
    "}).sort_values('precision',ascending=False)\n",
    "results_df"
   ]
  },
  {
   "cell_type": "code",
   "execution_count": null,
   "metadata": {},
   "outputs": [],
   "source": []
  }
 ],
 "metadata": {
  "kernelspec": {
   "display_name": "Python 3",
   "language": "python",
   "name": "python3"
  },
  "language_info": {
   "codemirror_mode": {
    "name": "ipython",
    "version": 3
   },
   "file_extension": ".py",
   "mimetype": "text/x-python",
   "name": "python",
   "nbconvert_exporter": "python",
   "pygments_lexer": "ipython3",
   "version": "3.6.6"
  }
 },
 "nbformat": 4,
 "nbformat_minor": 2
}
